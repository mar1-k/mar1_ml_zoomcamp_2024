{
 "cells": [
  {
   "cell_type": "code",
   "execution_count": 56,
   "id": "7d4a7c98-a8f6-452c-882d-2fb088a3965b",
   "metadata": {},
   "outputs": [
    {
     "data": {
      "text/plain": [
       "'2.2.2'"
      ]
     },
     "execution_count": 56,
     "metadata": {},
     "output_type": "execute_result"
    }
   ],
   "source": [
    "import pandas as pd\n",
    "import numpy as np\n",
    "import matplotlib.pyplot as plt\n",
    "import seaborn as sns\n",
    "\n",
    "pd.__version__"
   ]
  },
  {
   "cell_type": "code",
   "execution_count": 283,
   "id": "6f4c4beb-8e2d-4d61-8c54-a6d29b1cade9",
   "metadata": {},
   "outputs": [
    {
     "data": {
      "text/html": [
       "<div>\n",
       "<style scoped>\n",
       "    .dataframe tbody tr th:only-of-type {\n",
       "        vertical-align: middle;\n",
       "    }\n",
       "\n",
       "    .dataframe tbody tr th {\n",
       "        vertical-align: top;\n",
       "    }\n",
       "\n",
       "    .dataframe thead th {\n",
       "        text-align: right;\n",
       "    }\n",
       "</style>\n",
       "<table border=\"1\" class=\"dataframe\">\n",
       "  <thead>\n",
       "    <tr style=\"text-align: right;\">\n",
       "      <th></th>\n",
       "      <th>Laptop</th>\n",
       "      <th>Status</th>\n",
       "      <th>Brand</th>\n",
       "      <th>Model</th>\n",
       "      <th>CPU</th>\n",
       "      <th>RAM</th>\n",
       "      <th>Storage</th>\n",
       "      <th>Storage type</th>\n",
       "      <th>GPU</th>\n",
       "      <th>Screen</th>\n",
       "      <th>Touch</th>\n",
       "      <th>Final Price</th>\n",
       "    </tr>\n",
       "  </thead>\n",
       "  <tbody>\n",
       "    <tr>\n",
       "      <th>0</th>\n",
       "      <td>ASUS ExpertBook B1 B1502CBA-EJ0436X Intel Core...</td>\n",
       "      <td>New</td>\n",
       "      <td>Asus</td>\n",
       "      <td>ExpertBook</td>\n",
       "      <td>Intel Core i5</td>\n",
       "      <td>8</td>\n",
       "      <td>512</td>\n",
       "      <td>SSD</td>\n",
       "      <td>NaN</td>\n",
       "      <td>15.6</td>\n",
       "      <td>No</td>\n",
       "      <td>1009.00</td>\n",
       "    </tr>\n",
       "    <tr>\n",
       "      <th>1</th>\n",
       "      <td>Alurin Go Start Intel Celeron N4020/8GB/256GB ...</td>\n",
       "      <td>New</td>\n",
       "      <td>Alurin</td>\n",
       "      <td>Go</td>\n",
       "      <td>Intel Celeron</td>\n",
       "      <td>8</td>\n",
       "      <td>256</td>\n",
       "      <td>SSD</td>\n",
       "      <td>NaN</td>\n",
       "      <td>15.6</td>\n",
       "      <td>No</td>\n",
       "      <td>299.00</td>\n",
       "    </tr>\n",
       "    <tr>\n",
       "      <th>2</th>\n",
       "      <td>ASUS ExpertBook B1 B1502CBA-EJ0424X Intel Core...</td>\n",
       "      <td>New</td>\n",
       "      <td>Asus</td>\n",
       "      <td>ExpertBook</td>\n",
       "      <td>Intel Core i3</td>\n",
       "      <td>8</td>\n",
       "      <td>256</td>\n",
       "      <td>SSD</td>\n",
       "      <td>NaN</td>\n",
       "      <td>15.6</td>\n",
       "      <td>No</td>\n",
       "      <td>789.00</td>\n",
       "    </tr>\n",
       "    <tr>\n",
       "      <th>3</th>\n",
       "      <td>MSI Katana GF66 12UC-082XES Intel Core i7-1270...</td>\n",
       "      <td>New</td>\n",
       "      <td>MSI</td>\n",
       "      <td>Katana</td>\n",
       "      <td>Intel Core i7</td>\n",
       "      <td>16</td>\n",
       "      <td>1000</td>\n",
       "      <td>SSD</td>\n",
       "      <td>RTX 3050</td>\n",
       "      <td>15.6</td>\n",
       "      <td>No</td>\n",
       "      <td>1199.00</td>\n",
       "    </tr>\n",
       "    <tr>\n",
       "      <th>4</th>\n",
       "      <td>HP 15S-FQ5085NS Intel Core i5-1235U/16GB/512GB...</td>\n",
       "      <td>New</td>\n",
       "      <td>HP</td>\n",
       "      <td>15S</td>\n",
       "      <td>Intel Core i5</td>\n",
       "      <td>16</td>\n",
       "      <td>512</td>\n",
       "      <td>SSD</td>\n",
       "      <td>NaN</td>\n",
       "      <td>15.6</td>\n",
       "      <td>No</td>\n",
       "      <td>669.01</td>\n",
       "    </tr>\n",
       "    <tr>\n",
       "      <th>...</th>\n",
       "      <td>...</td>\n",
       "      <td>...</td>\n",
       "      <td>...</td>\n",
       "      <td>...</td>\n",
       "      <td>...</td>\n",
       "      <td>...</td>\n",
       "      <td>...</td>\n",
       "      <td>...</td>\n",
       "      <td>...</td>\n",
       "      <td>...</td>\n",
       "      <td>...</td>\n",
       "      <td>...</td>\n",
       "    </tr>\n",
       "    <tr>\n",
       "      <th>2155</th>\n",
       "      <td>Razer Blade 17 FHD 360Hz Intel Core i7-11800H/...</td>\n",
       "      <td>Refurbished</td>\n",
       "      <td>Razer</td>\n",
       "      <td>Blade</td>\n",
       "      <td>Intel Core i7</td>\n",
       "      <td>16</td>\n",
       "      <td>1000</td>\n",
       "      <td>SSD</td>\n",
       "      <td>RTX 3060</td>\n",
       "      <td>17.3</td>\n",
       "      <td>No</td>\n",
       "      <td>2699.99</td>\n",
       "    </tr>\n",
       "    <tr>\n",
       "      <th>2156</th>\n",
       "      <td>Razer Blade 17 FHD 360Hz Intel Core i7-11800H/...</td>\n",
       "      <td>Refurbished</td>\n",
       "      <td>Razer</td>\n",
       "      <td>Blade</td>\n",
       "      <td>Intel Core i7</td>\n",
       "      <td>16</td>\n",
       "      <td>1000</td>\n",
       "      <td>SSD</td>\n",
       "      <td>RTX 3070</td>\n",
       "      <td>17.3</td>\n",
       "      <td>No</td>\n",
       "      <td>2899.99</td>\n",
       "    </tr>\n",
       "    <tr>\n",
       "      <th>2157</th>\n",
       "      <td>Razer Blade 17 FHD 360Hz Intel Core i7-11800H/...</td>\n",
       "      <td>Refurbished</td>\n",
       "      <td>Razer</td>\n",
       "      <td>Blade</td>\n",
       "      <td>Intel Core i7</td>\n",
       "      <td>32</td>\n",
       "      <td>1000</td>\n",
       "      <td>SSD</td>\n",
       "      <td>RTX 3080</td>\n",
       "      <td>17.3</td>\n",
       "      <td>No</td>\n",
       "      <td>3399.99</td>\n",
       "    </tr>\n",
       "    <tr>\n",
       "      <th>2158</th>\n",
       "      <td>Razer Book 13 Intel Evo Core i7-1165G7/16GB/1T...</td>\n",
       "      <td>Refurbished</td>\n",
       "      <td>Razer</td>\n",
       "      <td>Book</td>\n",
       "      <td>Intel Evo Core i7</td>\n",
       "      <td>16</td>\n",
       "      <td>1000</td>\n",
       "      <td>SSD</td>\n",
       "      <td>NaN</td>\n",
       "      <td>13.4</td>\n",
       "      <td>Yes</td>\n",
       "      <td>1899.99</td>\n",
       "    </tr>\n",
       "    <tr>\n",
       "      <th>2159</th>\n",
       "      <td>Razer Book FHD+ Intel Evo Core i7-1165G7/16GB/...</td>\n",
       "      <td>Refurbished</td>\n",
       "      <td>Razer</td>\n",
       "      <td>Book</td>\n",
       "      <td>Intel Evo Core i7</td>\n",
       "      <td>16</td>\n",
       "      <td>256</td>\n",
       "      <td>SSD</td>\n",
       "      <td>NaN</td>\n",
       "      <td>13.4</td>\n",
       "      <td>Yes</td>\n",
       "      <td>1699.99</td>\n",
       "    </tr>\n",
       "  </tbody>\n",
       "</table>\n",
       "<p>2160 rows × 12 columns</p>\n",
       "</div>"
      ],
      "text/plain": [
       "                                                 Laptop       Status   Brand  \\\n",
       "0     ASUS ExpertBook B1 B1502CBA-EJ0436X Intel Core...          New    Asus   \n",
       "1     Alurin Go Start Intel Celeron N4020/8GB/256GB ...          New  Alurin   \n",
       "2     ASUS ExpertBook B1 B1502CBA-EJ0424X Intel Core...          New    Asus   \n",
       "3     MSI Katana GF66 12UC-082XES Intel Core i7-1270...          New     MSI   \n",
       "4     HP 15S-FQ5085NS Intel Core i5-1235U/16GB/512GB...          New      HP   \n",
       "...                                                 ...          ...     ...   \n",
       "2155  Razer Blade 17 FHD 360Hz Intel Core i7-11800H/...  Refurbished   Razer   \n",
       "2156  Razer Blade 17 FHD 360Hz Intel Core i7-11800H/...  Refurbished   Razer   \n",
       "2157  Razer Blade 17 FHD 360Hz Intel Core i7-11800H/...  Refurbished   Razer   \n",
       "2158  Razer Book 13 Intel Evo Core i7-1165G7/16GB/1T...  Refurbished   Razer   \n",
       "2159  Razer Book FHD+ Intel Evo Core i7-1165G7/16GB/...  Refurbished   Razer   \n",
       "\n",
       "           Model                CPU  RAM  Storage Storage type       GPU  \\\n",
       "0     ExpertBook      Intel Core i5    8      512          SSD       NaN   \n",
       "1             Go      Intel Celeron    8      256          SSD       NaN   \n",
       "2     ExpertBook      Intel Core i3    8      256          SSD       NaN   \n",
       "3         Katana      Intel Core i7   16     1000          SSD  RTX 3050   \n",
       "4            15S      Intel Core i5   16      512          SSD       NaN   \n",
       "...          ...                ...  ...      ...          ...       ...   \n",
       "2155       Blade      Intel Core i7   16     1000          SSD  RTX 3060   \n",
       "2156       Blade      Intel Core i7   16     1000          SSD  RTX 3070   \n",
       "2157       Blade      Intel Core i7   32     1000          SSD  RTX 3080   \n",
       "2158        Book  Intel Evo Core i7   16     1000          SSD       NaN   \n",
       "2159        Book  Intel Evo Core i7   16      256          SSD       NaN   \n",
       "\n",
       "      Screen Touch  Final Price  \n",
       "0       15.6    No      1009.00  \n",
       "1       15.6    No       299.00  \n",
       "2       15.6    No       789.00  \n",
       "3       15.6    No      1199.00  \n",
       "4       15.6    No       669.01  \n",
       "...      ...   ...          ...  \n",
       "2155    17.3    No      2699.99  \n",
       "2156    17.3    No      2899.99  \n",
       "2157    17.3    No      3399.99  \n",
       "2158    13.4   Yes      1899.99  \n",
       "2159    13.4   Yes      1699.99  \n",
       "\n",
       "[2160 rows x 12 columns]"
      ]
     },
     "execution_count": 283,
     "metadata": {},
     "output_type": "execute_result"
    }
   ],
   "source": [
    "url = \"https://raw.githubusercontent.com/alexeygrigorev/datasets/master/laptops.csv\"\n",
    "df = pd.read_csv(url)\n",
    "df"
   ]
  },
  {
   "cell_type": "code",
   "execution_count": 284,
   "id": "6c18c317-fcc8-4d8c-8b05-f80a43be05e5",
   "metadata": {},
   "outputs": [
    {
     "data": {
      "text/html": [
       "<div>\n",
       "<style scoped>\n",
       "    .dataframe tbody tr th:only-of-type {\n",
       "        vertical-align: middle;\n",
       "    }\n",
       "\n",
       "    .dataframe tbody tr th {\n",
       "        vertical-align: top;\n",
       "    }\n",
       "\n",
       "    .dataframe thead th {\n",
       "        text-align: right;\n",
       "    }\n",
       "</style>\n",
       "<table border=\"1\" class=\"dataframe\">\n",
       "  <thead>\n",
       "    <tr style=\"text-align: right;\">\n",
       "      <th></th>\n",
       "      <th>ram</th>\n",
       "      <th>storage</th>\n",
       "      <th>screen</th>\n",
       "      <th>final_price</th>\n",
       "    </tr>\n",
       "  </thead>\n",
       "  <tbody>\n",
       "    <tr>\n",
       "      <th>0</th>\n",
       "      <td>8</td>\n",
       "      <td>512</td>\n",
       "      <td>15.6</td>\n",
       "      <td>1009.00</td>\n",
       "    </tr>\n",
       "    <tr>\n",
       "      <th>1</th>\n",
       "      <td>8</td>\n",
       "      <td>256</td>\n",
       "      <td>15.6</td>\n",
       "      <td>299.00</td>\n",
       "    </tr>\n",
       "    <tr>\n",
       "      <th>2</th>\n",
       "      <td>8</td>\n",
       "      <td>256</td>\n",
       "      <td>15.6</td>\n",
       "      <td>789.00</td>\n",
       "    </tr>\n",
       "    <tr>\n",
       "      <th>3</th>\n",
       "      <td>16</td>\n",
       "      <td>1000</td>\n",
       "      <td>15.6</td>\n",
       "      <td>1199.00</td>\n",
       "    </tr>\n",
       "    <tr>\n",
       "      <th>4</th>\n",
       "      <td>16</td>\n",
       "      <td>512</td>\n",
       "      <td>15.6</td>\n",
       "      <td>669.01</td>\n",
       "    </tr>\n",
       "    <tr>\n",
       "      <th>...</th>\n",
       "      <td>...</td>\n",
       "      <td>...</td>\n",
       "      <td>...</td>\n",
       "      <td>...</td>\n",
       "    </tr>\n",
       "    <tr>\n",
       "      <th>2155</th>\n",
       "      <td>16</td>\n",
       "      <td>1000</td>\n",
       "      <td>17.3</td>\n",
       "      <td>2699.99</td>\n",
       "    </tr>\n",
       "    <tr>\n",
       "      <th>2156</th>\n",
       "      <td>16</td>\n",
       "      <td>1000</td>\n",
       "      <td>17.3</td>\n",
       "      <td>2899.99</td>\n",
       "    </tr>\n",
       "    <tr>\n",
       "      <th>2157</th>\n",
       "      <td>32</td>\n",
       "      <td>1000</td>\n",
       "      <td>17.3</td>\n",
       "      <td>3399.99</td>\n",
       "    </tr>\n",
       "    <tr>\n",
       "      <th>2158</th>\n",
       "      <td>16</td>\n",
       "      <td>1000</td>\n",
       "      <td>13.4</td>\n",
       "      <td>1899.99</td>\n",
       "    </tr>\n",
       "    <tr>\n",
       "      <th>2159</th>\n",
       "      <td>16</td>\n",
       "      <td>256</td>\n",
       "      <td>13.4</td>\n",
       "      <td>1699.99</td>\n",
       "    </tr>\n",
       "  </tbody>\n",
       "</table>\n",
       "<p>2160 rows × 4 columns</p>\n",
       "</div>"
      ],
      "text/plain": [
       "      ram  storage  screen  final_price\n",
       "0       8      512    15.6      1009.00\n",
       "1       8      256    15.6       299.00\n",
       "2       8      256    15.6       789.00\n",
       "3      16     1000    15.6      1199.00\n",
       "4      16      512    15.6       669.01\n",
       "...   ...      ...     ...          ...\n",
       "2155   16     1000    17.3      2699.99\n",
       "2156   16     1000    17.3      2899.99\n",
       "2157   32     1000    17.3      3399.99\n",
       "2158   16     1000    13.4      1899.99\n",
       "2159   16      256    13.4      1699.99\n",
       "\n",
       "[2160 rows x 4 columns]"
      ]
     },
     "execution_count": 284,
     "metadata": {},
     "output_type": "execute_result"
    }
   ],
   "source": [
    "df.columns = df.columns.str.lower().str.replace(' ', '_')\n",
    "df = df[['ram','storage','screen','final_price']]\n",
    "df"
   ]
  },
  {
   "cell_type": "code",
   "execution_count": 285,
   "id": "55d9525a-857f-4432-9a09-fe6ec685f638",
   "metadata": {},
   "outputs": [
    {
     "data": {
      "text/plain": [
       "<Axes: xlabel='final_price', ylabel='Count'>"
      ]
     },
     "execution_count": 285,
     "metadata": {},
     "output_type": "execute_result"
    },
    {
     "data": {
      "image/png": "[encoded data removed]",
      "text/plain": [
       "<Figure size 640x480 with 1 Axes>"
      ]
     },
     "metadata": {},
     "output_type": "display_data"
    }
   ],
   "source": [
    "sns.histplot(df.final_price)"
   ]
  },
  {
   "cell_type": "markdown",
   "id": "b7ccd3a0-3694-4340-9795-c35e68ebaf3c",
   "metadata": {},
   "source": [
    "final_price does indeed have a long tail as we can see above"
   ]
  },
  {
   "cell_type": "code",
   "execution_count": 81,
   "id": "d6e4611b-971e-4b5c-8bc6-2da97af35e2c",
   "metadata": {
    "scrolled": true
   },
   "outputs": [
    {
     "name": "stdout",
     "output_type": "stream",
     "text": [
      "ram            0\n",
      "storage        0\n",
      "screen         4\n",
      "final_price    0\n",
      "dtype: int64\n"
     ]
    }
   ],
   "source": [
    "print(df.isnull().sum())"
   ]
  },
  {
   "cell_type": "code",
   "execution_count": 286,
   "id": "c3886405-8b81-4cbd-bf2d-dd2aa6b72559",
   "metadata": {},
   "outputs": [
    {
     "name": "stdout",
     "output_type": "stream",
     "text": [
      "16.0\n"
     ]
    }
   ],
   "source": [
    "median_ram = df['ram'].median()\n",
    "print(str(median_ram))"
   ]
  },
  {
   "cell_type": "markdown",
   "id": "29292e53-7b71-4d04-98e5-b9e1d7089ca5",
   "metadata": {},
   "source": [
    "## Validation Framework"
   ]
  },
  {
   "cell_type": "code",
   "execution_count": 287,
   "id": "a18d2f42-fb4d-4103-9c47-819e7de674d0",
   "metadata": {},
   "outputs": [
    {
     "data": {
      "text/plain": [
       "(432, 432, 1296)"
      ]
     },
     "execution_count": 287,
     "metadata": {},
     "output_type": "execute_result"
    }
   ],
   "source": [
    "n = len(df)\n",
    "\n",
    "n_val = int(n * 0.2)\n",
    "n_test = int (n * 0.2)\n",
    "n_train = n - n_val - n_test\n",
    "\n",
    "n_val, n_test, n_train"
   ]
  },
  {
   "cell_type": "code",
   "execution_count": 290,
   "id": "736d98dd-bf92-46bb-a504-9fa553f1fb8e",
   "metadata": {},
   "outputs": [],
   "source": [
    "#Shuffle the dataset:\n",
    "idx = np.arange(n)\n",
    "np.random.seed(42)\n",
    "np.random.shuffle(idx)"
   ]
  },
  {
   "cell_type": "code",
   "execution_count": 294,
   "id": "5dbe635b-d9ca-48ef-9e81-5a0798a6bd20",
   "metadata": {},
   "outputs": [],
   "source": [
    "df_train = df.iloc[idx[:n_train]]\n",
    "df_val = df.iloc[idx[n_train:n_train+n_val]]\n",
    "df_test = df.iloc[idx[n_train+n_val:]]\n",
    "\n",
    "y = df[\"final_price\"].values\n",
    "y_train = y[idx[:n_train]]\n",
    "y_val = y[idx[n_train:n_train+n_val]]\n",
    "y_test = y[idx[n_train+n_val:]]"
   ]
  },
  {
   "cell_type": "code",
   "execution_count": 295,
   "id": "143c3aa3-2592-4353-b4e8-e3befbd44350",
   "metadata": {},
   "outputs": [
    {
     "data": {
      "text/plain": [
       "(1296, 432, 432)"
      ]
     },
     "execution_count": 295,
     "metadata": {},
     "output_type": "execute_result"
    }
   ],
   "source": [
    "len(df_train), len(df_val), len(df_test)"
   ]
  },
  {
   "cell_type": "code",
   "execution_count": 298,
   "id": "ac10d5a6-19c8-473c-a9b8-8aa02f96001c",
   "metadata": {},
   "outputs": [],
   "source": [
    "df_train = df_train.reset_index(drop=True)\n",
    "df_val =df_val.reset_index(drop=True)\n",
    "df_test =df_test.reset_index(drop=True)"
   ]
  },
  {
   "cell_type": "code",
   "execution_count": 75,
   "id": "5e70fe82-0d36-403b-b9bb-abd3d399f29c",
   "metadata": {},
   "outputs": [],
   "source": [
    "#y_train = np.log1p(df_train.final_price.values)\n",
    "#y_val = np.log1p(df_val.final_price.values)\n",
    "#y_test = np.log1p(df_test.final_price.values)"
   ]
  },
  {
   "cell_type": "code",
   "execution_count": 87,
   "id": "01671ec5-8ea2-4f5b-ac5c-df4980013ce6",
   "metadata": {},
   "outputs": [],
   "source": [
    "del df_train['final_price']\n",
    "del df_val['final_price']\n",
    "del df_test['final_price']"
   ]
  },
  {
   "cell_type": "code",
   "execution_count": 299,
   "id": "06617054-3539-4fb0-b617-851998523aaf",
   "metadata": {},
   "outputs": [
    {
     "data": {
      "text/plain": [
       "1296"
      ]
     },
     "execution_count": 299,
     "metadata": {},
     "output_type": "execute_result"
    }
   ],
   "source": [
    "len(y_train)"
   ]
  },
  {
   "cell_type": "markdown",
   "id": "ca57ac25-d51b-4e67-b32b-124bace44b9f",
   "metadata": {},
   "source": [
    "#### Function to prepdataset for question 5"
   ]
  },
  {
   "cell_type": "code",
   "execution_count": 324,
   "id": "944cc3a7-469f-4994-891f-33cc93a3bf31",
   "metadata": {},
   "outputs": [],
   "source": [
    "def prep_dataset(df, seed):\n",
    "    idx = np.arange(n)\n",
    "    np.random.seed(seed)\n",
    "    np.random.shuffle(idx)\n",
    "\n",
    "    df_train = df.iloc[idx[:n_train]]\n",
    "    df_val = df.iloc[idx[n_train:n_train+n_val]]\n",
    "    df_test = df.iloc[idx[n_train+n_val:]]\n",
    "\n",
    "    y = df[\"final_price\"].values\n",
    "    y_train = y[idx[:n_train]]\n",
    "    y_val = y[idx[n_train:n_train+n_val]]\n",
    "    y_test = y[idx[n_train+n_val:]]\n",
    "\n",
    "    return df_train, df_val, df_test, y_train, y_val, y_test"
   ]
  },
  {
   "cell_type": "markdown",
   "id": "6ef68069-12e0-4bcd-a345-484156982835",
   "metadata": {},
   "source": [
    "## Training the model and getting our weights"
   ]
  },
  {
   "cell_type": "code",
   "execution_count": 314,
   "id": "70edfab1-8132-430a-9928-9b69788d4d4c",
   "metadata": {},
   "outputs": [],
   "source": [
    "def train_linear_regression(X, y, r =0.001):\n",
    "    ones = np.ones(X.shape[0])\n",
    "    X = np.column_stack([ones, X])\n",
    "\n",
    "    XTX = X.T.dot(X)\n",
    "    XTX = XTX + r * np.eye(XTX.shape[0])\n",
    "    \n",
    "    XTX_inv = np.linalg.inv(XTX)\n",
    "    w_full = XTX_inv.dot(X.T).dot(y)\n",
    "\n",
    "    return w_full[0], w_full[1:]"
   ]
  },
  {
   "cell_type": "code",
   "execution_count": 275,
   "id": "a5b49f62-9581-4ad5-967b-bbb28598708b",
   "metadata": {},
   "outputs": [
    {
     "name": "stdout",
     "output_type": "stream",
     "text": [
      "15.163534416086618\n"
     ]
    }
   ],
   "source": [
    "X_train = df_train.values\n",
    "mean_screen_size = df_train['screen'].mean()\n",
    "print(mean_screen_size)\n",
    "X_train_mean = df_train.fillna(mean_screen_size).values\n",
    "X_train_zeroes = df_train.fillna(0).values"
   ]
  },
  {
   "cell_type": "code",
   "execution_count": 306,
   "id": "a2ba03fc-a959-486d-b4f8-e265c63702ad",
   "metadata": {},
   "outputs": [],
   "source": [
    "w0, w = train_linear_regression(X_train_mean, y_train)"
   ]
  },
  {
   "cell_type": "code",
   "execution_count": 312,
   "id": "2e055378-a759-46bf-975d-9eac7b584588",
   "metadata": {
    "scrolled": true
   },
   "outputs": [
    {
     "data": {
      "text/plain": [
       "array([2380.46558232,  403.2369882 , 2452.75795532, 1356.64198269,\n",
       "       2362.39248907, 1677.94164887, 1314.55784117,  901.45972978,\n",
       "       1937.17253672, 2303.65493601, 1252.72169651, 4593.60998424,\n",
       "        901.45972978,  973.75210278, 1659.86855562,  678.39352527,\n",
       "        901.45972978,  822.97827126,  901.45972978, 1252.72169651,\n",
       "       1677.94164887, 1750.23402186, 1252.72169651, 1659.86855562,\n",
       "       2317.20975595, 1750.23402186, 1677.94164887,  768.75899151,\n",
       "        678.39352527, 2362.39248907, 1325.01406951, 2380.46558232,\n",
       "        678.39352527,  407.75526152, 1601.13100256, 1315.97752288,\n",
       "       1314.55784117, 2303.65493601,  901.45972978,  883.38663654,\n",
       "       1252.72169651, 1234.64860326,  901.45972978, 1677.94164887,\n",
       "        901.45972978,  678.39352527,  901.45972978, 1252.72169651,\n",
       "        678.39352527,  782.31381145, 1147.13059812, 4638.79271737,\n",
       "       1741.19747524, 2272.02702283, 1252.72169651,  797.29236194,\n",
       "       1659.86855562, 2272.02702283,  901.45972978, 1038.69203862,\n",
       "       1302.42270295, 1325.01406951,  973.75210278,  782.31381145,\n",
       "       1677.94164887, 2362.39248907, 1750.23402186, 1252.72169651,\n",
       "       1677.94164887, 2380.46558232,  891.00350145,  901.45972978,\n",
       "       3233.74485045, 1352.12370938,  750.68589827,  973.75210278,\n",
       "        750.68589827, 1252.72169651, 1659.86855562, 1750.23402186,\n",
       "       2362.39248907, 2380.46558232, 1659.86855562, 1955.24562997,\n",
       "       1750.23402186,  678.39352527, 7390.15089814, 1356.64198269,\n",
       "       1677.94164887, 1325.01406951,  973.75210278,  746.16762495,\n",
       "       1234.64860326, 2380.46558232,  750.68589827, 2380.46558232,\n",
       "       1252.72169651,  678.39352527,  678.39352527, 1750.23402186,\n",
       "       1356.64198269,  678.39352527, 1252.72169651,  973.75210278,\n",
       "       2303.65493601, 1677.94164887, 1175.9110502 , 1750.23402186,\n",
       "       1314.55784117, 1356.64198269,  973.75210278, 1356.64198269,\n",
       "       1005.38001596, 1325.01406951, 1325.01406951, 1252.72169651,\n",
       "        822.97827126, 1325.01406951, 2317.20975595,  996.34346934,\n",
       "       1937.17253672, 1252.72169651,  901.45972978, 2380.46558232,\n",
       "       1272.44240451, 1252.72169651, 1252.72169651,  973.75210278,\n",
       "        678.39352527,  750.68589827,  678.39352527, 1252.72169651,\n",
       "        782.31381145, 1659.86855562,  750.68589827,  878.86836322,\n",
       "        678.39352527,  973.75210278, 2452.75795532,  901.45972978,\n",
       "       1325.01406951, 1677.94164887,  488.31054545,  678.39352527,\n",
       "        639.15279601, 1252.72169651,  750.68589827, 1750.23402186,\n",
       "        795.86863139, 2380.46558232,  678.39352527, 4638.79271737,\n",
       "       2380.46558232, 1795.41675498,  782.31381145, 1325.01406951,\n",
       "       1325.01406951, 1325.01406951,  901.45972978,  901.45972978,\n",
       "       1750.23402186,  678.39352527, 1928.1359901 ,  750.68589827,\n",
       "       1252.72169651, 1677.94164887, 1279.83133639, 1677.94164887,\n",
       "        782.31381145, 1772.82538842, 1252.72169651, 1891.9898036 ,\n",
       "       1133.57577818, 1225.61205664,  827.49654457, 1356.64198269,\n",
       "       1659.86855562,  678.39352527, 2362.39248907,  678.39352527,\n",
       "        908.82546419,  634.6345227 , 1314.55784117, 1252.72169651,\n",
       "        678.39352527, 1356.64198269, 1325.01406951,  678.39352527,\n",
       "        795.86863139,  678.39352527,  901.45972978,  678.39352527,\n",
       "       2380.46558232, 1242.26546818,  782.31381145,  854.02450864,\n",
       "       1252.72169651, 1005.38001596,  901.45972978,  678.39352527,\n",
       "       1677.94164887,  901.45972978, 2353.35594245, 1325.01406951,\n",
       "       1677.94164887,  901.45972978, 3233.74485045, 1252.72169651,\n",
       "       2303.65493601,  901.45972978, 1677.94164887, 1252.72169651,\n",
       "       1175.9110502 , 1252.72169651, 2362.39248907,  678.39352527,\n",
       "        901.45972978,  502.76254191, 1234.64860326,  678.39352527,\n",
       "       1677.94164887, 1325.01406951, 1234.64860326,  963.29587444,\n",
       "       1252.72169651, 1261.75824314,  782.31381145, 1937.17253672,\n",
       "       2303.65493601, 2362.39248907, 1252.72169651,  973.75210278,\n",
       "        901.45972978, 2357.87421576,  750.68589827,  901.45972978,\n",
       "        691.94834521, 1279.83133639, 1677.94164887, 1356.64198269,\n",
       "        480.04763451, 1252.72169651,  571.96037214,  678.39352527,\n",
       "       1242.26546818,  678.39352527, 1101.94786499,  678.39352527,\n",
       "       1234.64860326, 1601.13100256, 1325.01406951,  670.7807092 ,\n",
       "       1147.13059812,  678.39352527, 1279.83133639, 1750.23402186,\n",
       "        678.39352527,  750.68589827, 1175.9110502 ,  583.38624488,\n",
       "        678.39352527, 2303.65493601, 2362.39248907, 1175.9110502 ,\n",
       "       1252.72169651, 2362.39248907, 1325.01406951, 1601.13100256,\n",
       "        463.52181265, 1325.01406951, 2434.68486207, 2362.39248907,\n",
       "        678.39352527,  901.45972978, 1234.64860326,  403.2369882 ,\n",
       "       1772.82538842,  750.68589827, 1234.64860326, 1325.01406951,\n",
       "       3233.74485045, 1677.94164887,  991.82519603,  901.45972978,\n",
       "       1356.64198269, 1659.86855562, 1370.19680263,  782.31381145,\n",
       "       1677.94164887,  678.39352527, 2303.65493601,  782.31381145,\n",
       "       2380.46558232, 1252.72169651, 1252.72169651,  901.45972978,\n",
       "       1230.13032995,  407.75526152, 1325.01406951, 4656.86581061,\n",
       "       1325.01406951, 1325.01406951,  684.33552913, 3233.74485045,\n",
       "       1252.72169651, 1325.01406951, 1234.64860326,  996.34346934,\n",
       "        750.68589827,  901.45972978, 1750.23402186, 1677.94164887,\n",
       "       1314.55784117, 1750.23402186,  901.45972978,  901.45972978,\n",
       "       1279.83133639,  670.7807092 , 1252.72169651, 2362.39248907,\n",
       "        782.31381145, 1252.72169651, 1234.64860326, 2380.46558232,\n",
       "        678.39352527,  678.39352527, 3188.56211733,  883.38663654,\n",
       "        583.38624488,  678.39352527, 1234.64860326,  678.39352527,\n",
       "        750.68589827,  901.45972978, 3708.70280293,  973.75210278,\n",
       "       1252.72169651, 1325.01406951, 1005.38001596, 1252.72169651,\n",
       "        750.68589827, 1230.13032995,  391.22943965, 1601.13100256,\n",
       "        901.45972978, 1252.72169651, 1750.23402186, 2452.75795532,\n",
       "       1677.94164887, 1005.38001596, 1252.72169651, 1750.23402186,\n",
       "       1252.72169651, 1252.72169651, 1252.72169651,  795.86863139,\n",
       "       1750.23402186,  750.68589827,  571.96037214, 1325.01406951,\n",
       "        901.45972978,  678.39352527, 1083.87477175,  750.68589827,\n",
       "       1252.72169651, 1252.72169651, 1677.94164887, 1677.94164887,\n",
       "        705.50316514, 1601.13100256,  782.31381145,  901.45972978,\n",
       "        546.81903102,  901.45972978, 1252.72169651, 1325.01406951,\n",
       "        973.75210278,  678.39352527, 1252.72169651, 1230.13032995,\n",
       "        750.68589827, 2303.65493601, 1234.64860326, 1325.01406951,\n",
       "        901.45972978, 1891.9898036 , 2303.65493601, 1325.01406951,\n",
       "        750.68589827,  750.68589827, 1175.9110502 , 2362.39248907,\n",
       "       2317.20975595, 1252.72169651, 3306.03722345, 1252.72169651,\n",
       "       2380.46558232, 1370.19680263, 1601.13100256,  973.75210278,\n",
       "        678.39352527, 1677.94164887, 4580.05516431, 1325.01406951,\n",
       "       1252.72169651,  973.75210278,  566.86042301, 2317.20975595,\n",
       "       1252.72169651, 1677.94164887,  901.45972978, 1677.94164887,\n",
       "       1750.23402186,  750.68589827,  678.39352527, 1252.72169651,\n",
       "       1325.01406951, 1325.01406951,  768.75899151, 1234.64860326,\n",
       "        973.75210278, 1252.72169651, 2380.46558232, 1601.13100256,\n",
       "        878.86836322, 1101.94786499,  878.86836322, 2303.65493601,\n",
       "        901.45972978,  678.39352527, 1677.94164887,  928.56936966,\n",
       "        901.45972978,  407.75526152, 1252.72169651, 1677.94164887,\n",
       "       1252.72169651,  782.31381145, 1178.7585113 ,  678.39352527,\n",
       "       1064.11756902,  901.45972978, 1677.94164887, 1325.01406951,\n",
       "        901.45972978, 1242.26546818, 2362.39248907,  678.39352527,\n",
       "       2380.46558232,  797.29236194, 1777.34366173,  901.45972978,\n",
       "       1189.46587014, 4046.35965877, 1677.94164887, 1252.72169651,\n",
       "       1252.72169651,  750.68589827, 2380.46558232,  678.39352527,\n",
       "       1356.64198269,  973.75210278,  678.39352527, 1325.01406951,\n",
       "        782.31381145, 2018.50145634, 2380.46558232, 2303.65493601,\n",
       "       1601.13100256, 1677.94164887, 1234.64860326, 1252.72169651,\n",
       "       1655.3502823 ,  571.96037214, 1252.72169651, 1252.72169651,\n",
       "        901.45972978, 1325.01406951,  566.86042301,  891.00350145,\n",
       "        678.39352527, 1252.72169651, 2303.65493601,  901.45972978,\n",
       "       2362.39248907, 2303.65493601,  660.32043202, 1252.72169651,\n",
       "       1677.94164887,  901.45972978, 1659.86855562,  973.75210278,\n",
       "       2452.75795532, 1242.26546818, 2362.39248907, 1252.72169651,\n",
       "        901.45972978,  678.39352527, 1252.72169651, 1234.64860326,\n",
       "       1325.01406951, 1252.72169651,  901.45972978,  901.45972978,\n",
       "       1750.23402186, 1325.01406951, 1306.94097626,  908.82546419,\n",
       "       1750.23402186,  901.45972978,  583.38624488,  678.39352527,\n",
       "       2380.46558232, 1827.04466817,  915.01454972,  773.27726483,\n",
       "        973.75210278,  750.68589827,  711.445169  , 1252.72169651,\n",
       "       1077.09071315, 2380.46558232, 1252.72169651, 2380.46558232,\n",
       "        901.45972978,  678.39352527, 1750.23402186, 2443.72140869,\n",
       "       2317.20975595,  973.75210278, 1252.72169651,  678.39352527,\n",
       "       1982.35526984,  782.31381145, 2303.65493601, 1252.72169651,\n",
       "       1234.64860326, 1325.01406951,  678.39352527, 1252.72169651,\n",
       "       2380.46558232,  901.45972978, 1347.60543607,  878.86836322,\n",
       "       1677.94164887, 1252.72169651, 1189.46587014, 1175.9110502 ,\n",
       "        678.39352527, 1242.26546818, 1252.72169651,  901.45972978,\n",
       "       2362.39248907,  901.45972978,  583.38624488,  670.7807092 ,\n",
       "        782.31381145,  634.6345227 , 1356.64198269, 1175.9110502 ,\n",
       "       1077.09071315,  678.39352527,  901.45972978, 1000.86174265,\n",
       "        901.45972978, 1601.13100256, 1601.13100256, 2362.39248907,\n",
       "       1326.67968214,  901.45972978, 1659.86855562, 1677.94164887,\n",
       "       1677.94164887, 1234.64860326, 1230.13032995, 4580.05516431,\n",
       "        678.39352527, 1252.72169651, 1401.82471582, 1741.19747524,\n",
       "        782.31381145, 2317.20975595,  901.45972978, 1252.72169651,\n",
       "       1325.01406951, 2804.01992205, 1326.67968214, 1325.01406951,\n",
       "        678.39352527, 1325.01406951, 1325.01406951, 1677.94164887,\n",
       "       1781.86193505,  678.39352527, 1252.72169651,  678.39352527,\n",
       "        901.45972978,  678.39352527,  901.45972978, 1325.01406951,\n",
       "       3175.00729739,  678.39352527, 1029.655492  ,  973.75210278,\n",
       "        750.68589827,  901.45972978, 2303.65493601, 2353.35594245,\n",
       "       4580.05516431, 1252.72169651, 1891.9898036 ,  773.27726483,\n",
       "       2549.29401024, 1175.9110502 , 1242.26546818, 1252.72169651,\n",
       "       1659.86855562, 2303.65493601, 1261.75824314, 1325.01406951,\n",
       "       1677.94164887, 3233.74485045,  768.75899151,  901.45972978,\n",
       "        678.39352527, 1147.13059812, 2362.39248907, 1325.01406951,\n",
       "        782.31381145, 1252.72169651, 2380.46558232, 1325.01406951,\n",
       "        678.39352527, 2303.65493601, 1325.01406951,  991.82519603,\n",
       "        818.45999795, 1614.68582249, 1252.72169651,  901.45972978,\n",
       "        750.68589827,  678.39352527,  901.45972978,  678.39352527,\n",
       "        391.22943965,  571.96037214,  678.39352527, 1659.86855562,\n",
       "       1252.72169651, 2303.65493601, 1252.72169651, 2380.46558232,\n",
       "       1189.46587014, 1325.01406951,  583.38624488, 1133.57577818,\n",
       "       1242.26546818, 1677.94164887, 1252.72169651, 1677.94164887,\n",
       "        824.64908348,  901.45972978, 1325.01406951,  678.39352527,\n",
       "       1252.72169651, 2479.86759519, 2317.20975595, 2303.65493601,\n",
       "        901.45972978, 1189.46587014,  575.0549149 , 1325.01406951,\n",
       "        678.39352527,  678.39352527,  678.39352527,  782.31381145,\n",
       "        901.45972978,  678.39352527,  750.68589827, 1252.72169651,\n",
       "       1677.94164887,  782.31381145, 1750.23402186,  901.45972978,\n",
       "        335.46288852,  678.39352527, 1230.13032995, 1325.01406951,\n",
       "       1252.72169651, 1326.67968214, 1750.23402186,  878.86836322,\n",
       "       1252.72169651, 1677.94164887, 1189.46587014,  488.31054545,\n",
       "       3233.74485045,  901.45972978,  901.45972978, 2380.46558232,\n",
       "       1601.13100256,  973.75210278,  891.00350145,  488.31054545,\n",
       "       1252.72169651, 1175.9110502 , 1601.13100256, 6381.49744012,\n",
       "       1677.94164887, 1077.09071315, 1230.13032995, 4580.05516431,\n",
       "       1252.72169651,  575.0549149 ,  901.45972978,  490.04977671,\n",
       "       1252.72169651, 2380.46558232, 1347.60543607, 1252.72169651,\n",
       "       1325.01406951,  901.45972978, 1230.13032995,  678.39352527,\n",
       "       1932.65426341, 1252.72169651,  678.39352527,  782.31381145,\n",
       "        973.75210278, 1677.94164887,  901.45972978, 1325.01406951,\n",
       "        797.29236194, 1677.94164887, 2362.39248907, 1677.94164887,\n",
       "       1252.72169651, 1325.01406951, 1325.01406951, 1325.01406951,\n",
       "       1252.72169651,  901.45972978,  841.05136451,  575.0549149 ,\n",
       "       1230.13032995, 4580.05516431,  463.52181265,  973.75210278,\n",
       "       1325.01406951, 2362.39248907,  750.68589827, 1252.72169651,\n",
       "        776.96013203, 1325.01406951, 2362.39248907, 2303.65493601,\n",
       "       2380.46558232, 2362.39248907, 2303.65493601,  824.64908348,\n",
       "       1944.78940163,  901.45972978, 2362.39248907,  901.45972978,\n",
       "       1356.64198269, 2362.39248907, 1325.01406951, 3251.8179437 ,\n",
       "       1175.9110502 , 2303.65493601, 1252.72169651,  901.45972978,\n",
       "        678.39352527,  678.39352527, 1677.94164887, 1677.94164887,\n",
       "       1252.72169651,  901.45972978, 1601.13100256, 2380.46558232,\n",
       "        691.94834521, 2317.20975595, 1750.23402186, 3233.74485045,\n",
       "        439.3831747 ,  901.45972978,  795.86863139, 1325.01406951,\n",
       "       1601.13100256, 1325.01406951,  678.39352527,  678.39352527,\n",
       "       1659.86855562, 1242.26546818, 1252.72169651, 1659.86855562,\n",
       "        901.45972978, 1306.94097626, 1189.46587014, 2317.20975595,\n",
       "        566.86042301,  750.68589827, 4593.60998424,  901.45972978,\n",
       "       1677.94164887, 1659.86855562,  901.45972978,  678.39352527,\n",
       "       1601.13100256,  901.45972978,  678.39352527,  750.68589827,\n",
       "        901.45972978,  678.39352527,  901.45972978,  750.68589827,\n",
       "        678.39352527, 1325.01406951, 1601.13100256, 4638.79271737,\n",
       "        901.45972978,  678.39352527,  566.86042301, 2479.86759519,\n",
       "        795.86863139,  750.68589827, 1252.72169651,  901.45972978,\n",
       "       2380.46558232, 2452.75795532,  491.05247989, 1356.64198269,\n",
       "       2380.46558232,  403.2369882 , 1252.72169651, 1677.94164887,\n",
       "        901.45972978, 1252.72169651,  678.39352527, 1677.94164887,\n",
       "       2317.20975595, 1252.72169651, 1650.83200899, 1677.94164887,\n",
       "        901.45972978,  678.39352527, 1677.94164887, 1356.64198269,\n",
       "        463.52181265, 1356.64198269,  678.39352527,  736.74426048,\n",
       "        901.45972978, 1252.72169651, 1677.94164887, 1356.64198269,\n",
       "       2380.46558232, 1252.72169651, 1252.72169651,  488.31054545,\n",
       "       1252.72169651, 1252.72169651,  973.75210278,  678.39352527,\n",
       "       2472.48336394,  488.31054545, 1750.23402186, 1252.72169651,\n",
       "       1677.94164887, 4593.60998424, 1601.13100256,  678.39352527,\n",
       "       1750.23402186,  678.39352527, 1252.72169651,  901.45972978,\n",
       "       1325.01406951, 3708.70280293, 1252.72169651,  750.68589827,\n",
       "        901.45972978, 1325.01406951,  750.68589827, 2380.46558232,\n",
       "       1252.72169651,  571.96037214, 1325.01406951, 1750.23402186,\n",
       "       1356.64198269, 1325.01406951, 1325.01406951, 1677.94164887,\n",
       "       2362.39248907, 2452.75795532,  678.39352527, 1325.01406951,\n",
       "       1356.64198269,  678.39352527, 1252.72169651,  973.75210278,\n",
       "        678.39352527,  511.09387189, 1175.9110502 , 1005.38001596,\n",
       "       1252.72169651, 2362.39248907, 1230.13032995,  901.45972978,\n",
       "       1178.7585113 , 1677.94164887, 1252.72169651,  901.45972978,\n",
       "       2479.86759519, 1677.94164887,  901.45972978, 1677.94164887,\n",
       "        678.39352527, 1677.94164887, 1677.94164887,  901.45972978,\n",
       "        797.29236194, 2303.65493601,  678.39352527, 2479.86759519,\n",
       "        314.41879334, 1234.64860326, 2303.65493601, 4580.05516431,\n",
       "        901.45972978,  678.39352527,  973.75210278, 1677.94164887,\n",
       "        901.45972978, 1601.13100256, 1101.94786499, 1252.72169651,\n",
       "        883.38663654, 1252.72169651,  901.45972978, 1252.72169651,\n",
       "       1252.72169651,  750.68589827, 4638.79271737,  678.39352527,\n",
       "       1677.94164887,  901.45972978, 2380.46558232,  782.31381145,\n",
       "        639.15279601, 1677.94164887, 1677.94164887,  782.31381145,\n",
       "       1279.83133639,  901.45972978, 1252.72169651, 1601.13100256,\n",
       "       1279.83133639, 1252.72169651, 1234.64860326, 1101.94786499,\n",
       "       2531.220917  , 1234.64860326,  678.39352527, 1230.13032995,\n",
       "       1677.94164887, 2407.5752222 ,  715.96344232, 2303.65493601,\n",
       "        678.39352527, 1677.94164887, 1005.38001596, 1252.72169651,\n",
       "        901.45972978,  502.76254191, 1315.97752288,  750.68589827,\n",
       "        901.45972978,  678.39352527, 1252.72169651, 2303.65493601,\n",
       "        750.68589827,  782.31381145,  678.39352527,  901.45972978,\n",
       "        678.39352527,  678.39352527,  670.7807092 , 1252.72169651,\n",
       "       1252.72169651, 2353.35594245, 2303.65493601, 2362.39248907,\n",
       "       2303.65493601, 2362.39248907, 2380.46558232,  678.39352527,\n",
       "        901.45972978, 2452.75795532, 2380.46558232, 1252.72169651,\n",
       "        750.68589827, 1252.72169651, 1252.72169651, 2362.39248907,\n",
       "       4593.60998424, 1944.78940163, 1252.72169651,  782.31381145,\n",
       "        678.39352527,  407.75526152,  583.38624488, 1011.58239875,\n",
       "        973.75210278, 1601.13100256, 1252.72169651, 1750.23402186,\n",
       "       2303.65493601, 1242.26546818,  901.45972978, 1655.3502823 ,\n",
       "        660.32043202, 2303.65493601, 1252.72169651, 1325.01406951,\n",
       "        797.29236194, 1356.64198269,  901.45972978,  915.01454972,\n",
       "        705.50316514, 1230.13032995,  678.39352527, 2317.20975595,\n",
       "        750.68589827,  750.68589827,  901.45972978,  660.32043202,\n",
       "        391.22943965, 1356.64198269,  973.75210278,  901.45972978,\n",
       "       1242.26546818,  901.45972978, 1252.72169651, 1677.94164887,\n",
       "       1252.72169651, 1005.38001596, 1234.64860326,  583.96792069,\n",
       "        901.45972978, 1252.72169651, 1147.13059812,  678.39352527,\n",
       "       1302.42270295, 1252.72169651,  463.52181265, 2303.65493601,\n",
       "       1252.72169651, 1252.72169651,  750.68589827,  782.31381145,\n",
       "        678.39352527,  678.39352527, 1272.44240451,  463.52181265,\n",
       "        827.49654457, 2303.65493601, 2303.65493601,  684.33552913,\n",
       "       1120.02095824,  901.45972978,  678.39352527, 2303.65493601,\n",
       "        691.94834521, 1326.67968214, 1655.3502823 ,  824.64908348,\n",
       "       2303.65493601, 1944.78940163, 1234.64860326, 1601.13100256,\n",
       "       1325.01406951, 1029.655492  , 1677.94164887,  678.39352527,\n",
       "        901.45972978, 1252.72169651, 2380.46558232, 2362.39248907,\n",
       "        516.19382101,  678.39352527, 1325.01406951, 2362.39248907,\n",
       "        901.45972978, 1029.655492  ,  483.21059632,  901.45972978,\n",
       "       1314.55784117, 1325.01406951,  678.39352527, 1325.01406951,\n",
       "        973.75210278, 1677.94164887, 2380.46558232, 1677.94164887,\n",
       "       1677.94164887,  678.39352527, 1677.94164887,  678.39352527,\n",
       "       1315.97752288,  891.00350145,  901.45972978, 1252.72169651,\n",
       "       2380.46558232,  824.64908348, 1252.72169651,  901.45972978,\n",
       "        973.75210278, 2303.65493601,  827.49654457, 1677.94164887,\n",
       "       2362.39248907, 1234.64860326, 1677.94164887, 2303.65493601,\n",
       "       2362.39248907, 1252.72169651, 1252.72169651,  878.86836322,\n",
       "       2380.46558232,  901.45972978, 1677.94164887,  773.27726483,\n",
       "        901.45972978, 1252.72169651, 1677.94164887, 1252.72169651,\n",
       "       1356.64198269,  750.68589827, 2362.39248907,  678.39352527,\n",
       "       1347.60543607,  678.39352527,  678.39352527, 1059.0176199 ,\n",
       "       1325.01406951,  678.39352527,  782.31381145,  678.39352527,\n",
       "       2452.75795532,  746.16762495, 1325.01406951,  750.68589827,\n",
       "       1147.13059812, 1302.42270295,  678.39352527, 1325.01406951,\n",
       "       1252.72169651,  678.39352527, 2362.39248907, 1252.72169651,\n",
       "       1795.41675498, 1252.72169651, 1175.9110502 ,  678.39352527,\n",
       "        391.22943965, 1101.94786499,  678.39352527,  678.39352527,\n",
       "       2362.39248907, 1677.94164887,  782.31381145, 1352.12370938,\n",
       "       2303.65493601,  901.45972978, 1189.46587014, 1252.72169651,\n",
       "        901.45972978,  678.39352527, 2380.46558232, 1234.64860326,\n",
       "        678.39352527, 1252.72169651, 1175.9110502 ,  750.68589827,\n",
       "        795.86863139, 1370.19680263,  782.31381145,  991.82519603,\n",
       "        750.68589827, 2303.65493601,  511.09387189, 1677.94164887,\n",
       "       1878.43498366, 1325.01406951, 1352.12370938, 1944.78940163,\n",
       "        878.86836322, 1750.23402186, 1234.64860326,  901.45972978,\n",
       "       1750.23402186,  901.45972978,  973.75210278,  901.45972978,\n",
       "       2303.65493601,  678.39352527, 1252.72169651, 2362.39248907,\n",
       "        901.45972978,  678.39352527,  901.45972978,  678.39352527,\n",
       "        678.39352527,  678.39352527, 1659.86855562,  901.45972978,\n",
       "       1325.01406951,  678.39352527, 3785.51344924,  901.45972978,\n",
       "        678.39352527, 1252.72169651, 1741.19747524, 1252.72169651,\n",
       "        678.39352527, 2452.75795532,  901.45972978, 1741.19747524,\n",
       "       1325.01406951, 1252.72169651, 1252.72169651,  684.33552913,\n",
       "       1777.34366173, 2443.72140869, 1230.13032995,  750.68589827,\n",
       "       1325.01406951, 1326.67968214,  698.11423327,  901.45972978,\n",
       "       1325.01406951,  901.45972978, 1659.86855562, 2362.39248907,\n",
       "       1325.01406951,  901.45972978,  566.86042301, 2452.75795532,\n",
       "       1325.01406951, 1325.01406951, 1356.64198269, 2380.46558232,\n",
       "       1252.72169651, 1326.67968214,  678.39352527,  750.68589827,\n",
       "        678.39352527, 1252.72169651,  678.39352527,  711.445169  ,\n",
       "        973.75210278, 3188.56211733,  678.39352527,  901.45972978,\n",
       "       1252.72169651,  705.50316514,  901.45972978, 1175.9110502 ,\n",
       "        901.45972978, 1252.72169651, 1325.01406951,  391.22943965,\n",
       "        678.39352527,  901.45972978, 2380.46558232,  678.39352527,\n",
       "        750.68589827, 1252.72169651, 1777.34366173,  678.39352527,\n",
       "       1005.38001596, 1655.3502823 ,  678.39352527,  901.45972978,\n",
       "       1356.64198269, 1252.72169651, 1252.72169651, 1677.94164887,\n",
       "        996.34346934, 2362.39248907,  678.39352527,  750.68589827,\n",
       "       2362.39248907, 1252.72169651, 1325.01406951, 1325.01406951])"
      ]
     },
     "execution_count": 312,
     "metadata": {},
     "output_type": "execute_result"
    }
   ],
   "source": [
    "y_pred = w0 + X_train.dot(w)\n",
    "y_pred"
   ]
  },
  {
   "cell_type": "code",
   "execution_count": 308,
   "id": "21f7ee1c-1286-4de1-ac2a-7968138b4db9",
   "metadata": {},
   "outputs": [
    {
     "data": {
      "text/plain": [
       "<Axes: ylabel='Count'>"
      ]
     },
     "execution_count": 308,
     "metadata": {},
     "output_type": "execute_result"
    },
    {
     "data": {
      "image/png": "[encoded data removed]",
      "text/plain": [
       "<Figure size 640x480 with 1 Axes>"
      ]
     },
     "metadata": {},
     "output_type": "display_data"
    }
   ],
   "source": [
    "sns.histplot(y_pred, color='red', alpha = 0.5, bins = 50)\n",
    "sns.histplot(y_train, color ='blue', alpha = 0.5, bins=50)"
   ]
  },
  {
   "cell_type": "markdown",
   "id": "18d99069-fbe3-4bfc-9320-b7d413c78d37",
   "metadata": {},
   "source": [
    "## RMSE"
   ]
  },
  {
   "cell_type": "code",
   "execution_count": 328,
   "id": "c0e6f06c-a106-4990-af44-ec330c4585a0",
   "metadata": {},
   "outputs": [],
   "source": [
    "def rmse(y, y_pred):\n",
    "    se = (y - y_pred) ** 2\n",
    "    mse = se.mean()\n",
    "    return np.sqrt(mse)"
   ]
  },
  {
   "cell_type": "code",
   "execution_count": 313,
   "id": "a68f31e2-a557-4193-9fdf-2f685dfe414f",
   "metadata": {},
   "outputs": [
    {
     "data": {
      "text/plain": [
       "602.1844959403247"
      ]
     },
     "execution_count": 313,
     "metadata": {},
     "output_type": "execute_result"
    }
   ],
   "source": [
    "rmse(y_train,y_pred)"
   ]
  },
  {
   "cell_type": "markdown",
   "id": "52b2f4c6-a2fe-4905-9149-29919a5572e3",
   "metadata": {},
   "source": [
    "## Validation"
   ]
  },
  {
   "cell_type": "code",
   "execution_count": 315,
   "id": "4be30f40-3c89-4dce-b66d-ecc05bdfb817",
   "metadata": {},
   "outputs": [],
   "source": [
    "def prepare_X(df):\n",
    "    base = ['ram','storage','screen']\n",
    "    df_num = df[base]\n",
    "    df_num = df_num.fillna(0)\n",
    "    X = df_num.values\n",
    "    return X"
   ]
  },
  {
   "cell_type": "code",
   "execution_count": 302,
   "id": "7b6d6e92-5a7d-444d-b774-b69a537b3905",
   "metadata": {},
   "outputs": [
    {
     "data": {
      "text/plain": [
       "597.36"
      ]
     },
     "execution_count": 302,
     "metadata": {},
     "output_type": "execute_result"
    }
   ],
   "source": [
    "X_train = prepare_X(df_train)\n",
    "w0, w = train_linear_regression(X_train, y_train)\n",
    "\n",
    "X_val = prepare_X(df_val)\n",
    "y_pred = w0 + X_val.dot(w)\n",
    "\n",
    "round(rmse(y_val, y_pred), 2)"
   ]
  },
  {
   "cell_type": "code",
   "execution_count": 305,
   "id": "bcba4d1a-312e-4ba1-8db9-0b43fd237f2f",
   "metadata": {},
   "outputs": [
    {
     "data": {
      "text/plain": [
       "600.27"
      ]
     },
     "execution_count": 305,
     "metadata": {},
     "output_type": "execute_result"
    }
   ],
   "source": [
    "X_train = prepare_X(df_train)\n",
    "w0, w = train_linear_regression(X_train, y_train)\n",
    "\n",
    "X_val = prepare_X(df_val)\n",
    "y_pred = w0 + X_val.dot(w)\n",
    "\n",
    "round(rmse(y_val, y_pred),2)"
   ]
  },
  {
   "cell_type": "markdown",
   "id": "1a2ee51b-0aaa-4789-a343-9203afb8a327",
   "metadata": {},
   "source": [
    "## Regularization"
   ]
  },
  {
   "cell_type": "code",
   "execution_count": 319,
   "id": "5fae6a3c-32b9-4560-843c-f0ba4dbc05f7",
   "metadata": {
    "scrolled": true
   },
   "outputs": [
    {
     "name": "stdout",
     "output_type": "stream",
     "text": [
      "RMSE for r=0:     597.36\n",
      "RMSE for r=0.01:     597.36\n",
      "RMSE for r=1:     597.21\n",
      "RMSE for r=10:     597.06\n",
      "RMSE for r=100:     597.9\n"
     ]
    }
   ],
   "source": [
    "r_values = [0,0.01,1,10,100]\n",
    "\n",
    "for r in r_values:\n",
    "    X_train = prepare_X(df_train)\n",
    "    w0, w = train_linear_regression(X_train, y_train, r)\n",
    "\n",
    "    X_val = prepare_X(df_val)\n",
    "    y_pred = w0 + X_val.dot(w)\n",
    "    \n",
    "    print('RMSE for r=' + str(r) + ':     ' + str(round(rmse(y_val, y_pred), 2)))"
   ]
  },
  {
   "cell_type": "code",
   "execution_count": 330,
   "id": "43eefec3-96fe-44f1-9ae7-0e1148af943d",
   "metadata": {},
   "outputs": [
    {
     "name": "stdout",
     "output_type": "stream",
     "text": [
      "RMSE for seed=0:     565.45\n",
      "RMSE for seed=1:     636.8\n",
      "RMSE for seed=2:     588.96\n",
      "RMSE for seed=3:     597.81\n",
      "RMSE for seed=4:     571.96\n",
      "RMSE for seed=5:     573.24\n",
      "RMSE for seed=6:     647.34\n",
      "RMSE for seed=7:     550.44\n",
      "RMSE for seed=8:     587.33\n",
      "RMSE for seed=9:     576.1\n"
     ]
    },
    {
     "data": {
      "text/plain": [
       "29.176152950654732"
      ]
     },
     "execution_count": 330,
     "metadata": {},
     "output_type": "execute_result"
    }
   ],
   "source": [
    "seeds = [0,1,2,3,4,5,6,7,8,9]\n",
    "rmse_list = []\n",
    "\n",
    "#    return df_train, df_val, df_test, y_train, y_val, y_test\n",
    "for seed in seeds:\n",
    "    df_train, df_val, df_test, y_train, y_val, y_test = prep_dataset(df, seed)\n",
    "    \n",
    "    X_train = prepare_X(df_train)\n",
    "    w0, w = train_linear_regression(X_train, y_train, 0.001)\n",
    "\n",
    "    X_val = prepare_X(df_val)\n",
    "    y_pred = w0 + X_val.dot(w)  \n",
    "\n",
    "    rmse_val = round(rmse(y_val, y_pred), 2)\n",
    "    \n",
    "    print('RMSE for seed=' + str(seed) + ':     ' + str(rmse_val))\n",
    "    rmse_list.append(rmse_val)\n",
    "\n",
    "std = np.std(rmse_list)\n",
    "std"
   ]
  },
  {
   "cell_type": "code",
   "execution_count": 367,
   "id": "3d304873-def9-480d-9cf0-1aeb8c01b08d",
   "metadata": {},
   "outputs": [
    {
     "name": "stdout",
     "output_type": "stream",
     "text": [
      "RMSE= 608.61\n"
     ]
    }
   ],
   "source": [
    "#Question 6\n",
    "\n",
    "idx = np.arange(n)\n",
    "np.random.seed(9)\n",
    "np.random.shuffle(idx)\n",
    "\n",
    "df_train = df.iloc[idx[:n_train + n_val]]\n",
    "df_test = df.iloc[idx[n_train+n_val:]]\n",
    "y = df[\"final_price\"].values\n",
    "y_train = y[idx[:n_train + n_val]]\n",
    "y_test = y[idx[n_train + n_val:]]\n",
    "\n",
    "X_train = prepare_X(df_train)\n",
    "X_test = prepare_X(df_test)\n",
    "\n",
    "w0, w = train_linear_regression(X_train, y_train, 0.001)\n",
    "y_hat_test = w0 + X_test.dot(w)\n",
    "\n",
    "rmse_val = round(rmse(y_hat_test, y_test), 2)\n",
    "    \n",
    "print('RMSE= ' + str(rmse_val))"
   ]
  }
 ],
 "metadata": {
  "kernelspec": {
   "display_name": "Python 3 (ipykernel)",
   "language": "python",
   "name": "python3"
  },
  "language_info": {
   "codemirror_mode": {
    "name": "ipython",
    "version": 3
   },
   "file_extension": ".py",
   "mimetype": "text/x-python",
   "name": "python",
   "nbconvert_exporter": "python",
   "pygments_lexer": "ipython3",
   "version": "3.11.9"
  }
 },
 "nbformat": 4,
 "nbformat_minor": 5
}
